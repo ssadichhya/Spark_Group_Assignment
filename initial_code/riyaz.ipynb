{
 "cells": [
  {
   "cell_type": "code",
   "execution_count": 3,
   "metadata": {},
   "outputs": [],
   "source": [
    "from pyspark.sql import SparkSession\n",
    "from pyspark.sql.functions import when, col"
   ]
  },
  {
   "cell_type": "code",
   "execution_count": 4,
   "metadata": {},
   "outputs": [
    {
     "name": "stderr",
     "output_type": "stream",
     "text": [
      "23/09/05 23:14:01 WARN Utils: Your hostname, riyaz-Aspire-VX5-591G resolves to a loopback address: 127.0.1.1; using 192.168.1.164 instead (on interface enp3s0)\n",
      "23/09/05 23:14:01 WARN Utils: Set SPARK_LOCAL_IP if you need to bind to another address\n",
      "Setting default log level to \"WARN\".\n",
      "To adjust logging level use sc.setLogLevel(newLevel). For SparkR, use setLogLevel(newLevel).\n",
      "23/09/05 23:14:03 WARN NativeCodeLoader: Unable to load native-hadoop library for your platform... using builtin-java classes where applicable\n"
     ]
    }
   ],
   "source": [
    "# Initialize a Spark session\n",
    "spark = SparkSession.builder.appName(\"DataTransformation\").getOrCreate()"
   ]
  },
  {
   "cell_type": "markdown",
   "metadata": {},
   "source": [
    "Reading CSV\n"
   ]
  },
  {
   "cell_type": "code",
   "execution_count": 5,
   "metadata": {},
   "outputs": [
    {
     "name": "stderr",
     "output_type": "stream",
     "text": [
      "                                                                                \r"
     ]
    }
   ],
   "source": [
    "#reading csv file\n",
    "listing_df = spark.read.csv('cleaned_data/clean_listing_csv/', header=True, inferSchema=True)\n",
    "review_df = spark.read.csv('cleaned_data/clean_reviews_csv/', header=True, inferSchema=True)\n",
    "calender_df = spark.read.csv('cleaned_data/clean0_calendar_csv/', header=True, inferSchema=True)\n",
    "\n",
    "\n"
   ]
  },
  {
   "cell_type": "code",
   "execution_count": 6,
   "metadata": {},
   "outputs": [
    {
     "name": "stdout",
     "output_type": "stream",
     "text": [
      "+--------+-------------------------------------+---------------------------------------------+-----------------------------------------------------------------------------------------------------------------------------------------------------------------------------------------------------------------------------------------------------------------------------------------------------------------------------------------------------------------------------------------------------------------------------------------------------------------------------------------------------------------------------------------------------------------------------------------------------------------------------------------------------------------------------------------------------------------------------------------------------------------------------------------------------------------------------------------------------------------------------------------------------------------------------------------------------------------------------------------------------------------------------------+-----------+--------------------------------------------+------------------+------------------+--------------------+-----------------+----------+-------------------------------------------------+----------+-----+-------+-------------+---------------+------------+---------+--------+-----+-----------------+\n",
      "|id      |listing_url                          |name                                         |space                                                                                                                                                                                                                                                                                                                                                                                                                                                                                                                                                                                                                                                                                                                                                                                                                                                                                                                                                                                                                              |host_name  |host_location                               |host_response_time|host_response_rate|host_acceptance_rate|host_is_superhost|host_since|street                                           |city      |state|zipcode|property_type|room_type      |accommodates|bathrooms|bedrooms|price|number_of_reviews|\n",
      "+--------+-------------------------------------+---------------------------------------------+-----------------------------------------------------------------------------------------------------------------------------------------------------------------------------------------------------------------------------------------------------------------------------------------------------------------------------------------------------------------------------------------------------------------------------------------------------------------------------------------------------------------------------------------------------------------------------------------------------------------------------------------------------------------------------------------------------------------------------------------------------------------------------------------------------------------------------------------------------------------------------------------------------------------------------------------------------------------------------------------------------------------------------------+-----------+--------------------------------------------+------------------+------------------+--------------------+-----------------+----------+-------------------------------------------------+----------+-----+-------+-------------+---------------+------------+---------+--------+-----+-----------------+\n",
      "|12147973|https://www.airbnb.com/rooms/12147973|Sunny Bungalow in the City                   |The house has an open and cozy feel at the same time.  The living room has a flat screen TV.  The kitchen has all you need for cooking.  We prefer you buy your food but can use the organic oils herbs etc.   The yard can be seen from sitting room and when the weather allows the yard is a place children can lose themselves in a safe way.  We have 2 bee hives 6 hens fenced in (sometimes they get out of their coop area & into the yard) 2 rabbits in a hutch and play structure.                                                                                                                                                                                                                                                                                                                                                                                                                                                                                                                                       |Virginia   |Boston Massachusetts United States          |N/A               |N/A               |N/A                 |false            |2015-04-15|Birch Street Boston MA 02131 United States       |Boston    |MA   |2131   |House        |Entire home/apt|4           |1.5      |2       |25000|0                |\n",
      "|3075044 |https://www.airbnb.com/rooms/3075044 |Charming room in pet friendly apt            |Small but cozy and quite room with a full size bed. Ample street parking.                                                                                                                                                                                                                                                                                                                                                                                                                                                                                                                                                                                                                                                                                                                                                                                                                                                                                                                                                          |Andrea     |Boston Massachusetts United States          |within an hour    |100%              |100%                |false            |2012-06-07|Pinehurst Street Boston MA 02131 United States   |Boston    |MA   |2131   |Apartment    |Private room   |2           |1.0      |1       |6500 |36               |\n",
      "|6976    |https://www.airbnb.com/rooms/6976    |Mexican Folk Art Haven in Boston             |Come stay with a friendly middle-aged guy in the safe and quiet Roslindale neighborhood of Boston. You will have you own clean furnished room (with cable TV Wi-Fi and a desk to work at) in an apartment that is filled with Mexican folk art. This is a well-maintained two-family house built in the 1940s. My apartment is on the second floor. This is a pet and smoke-free apartment.   PRICE: Price includes ALL utilities (heat electricity Wi-Fi cable TV air conditioner) parking in street and use of back yard. NO SMOKING indoors or outside. Note that the bed is a size \"Full\" mattress not a Queen or a King. This is ideal for one guest but if it is two people traveling together you can fit two in the bed or the second person can sleep in the living room on the long couch. (Not a fold-out couch but comfortable). Additional fee for the second person is $20. The price listed is for one person.  I offer discounted rates for stays of one week or longer.   Guests get free coffee and a            |Phil       |Boston Massachusetts United States          |within a few hours|100%              |88%                 |true             |2009-05-11|Ardale St. Boston MA 02131 United States         |Boston    |MA   |2131   |Apartment    |Private room   |2           |1.0      |1       |6500 |41               |\n",
      "|1436513 |https://www.airbnb.com/rooms/1436513 |Spacious Sunny Bedroom Suite in Historic Home|Most places you find in Boston are small however our bedroom suite is large. The bedroom has plush down pillows and a down comforter. The mattress is fitted with a memory foam topper that gives each guest the best sleep. The leather couches are cozy.  The large leather couch can be converted to a bed. The television has been updated to a smart tv therefore you can access most tv programs through there including HBO Showtime and Cinemax. If you want to enjoy cable television there is a tv in the kitchen. The kitchen has a gas burner dishwasher garbage disposal music system and a space in the fridge to keep your items.                                                                                                                                                                                                                                                                                                                                                                                   |Meghna     |Boston Massachusetts United States          |within a few hours|100%              |50%                 |false            |2013-04-21|Boston MA United States                          |Boston    |MA   |null   |House        |Private room   |4           |1.0      |1       |7500 |1                |\n",
      "|7651065 |https://www.airbnb.com/rooms/7651065 |Come Home to Boston                          |Clean attractive private room one block from the bus line on a quiet safe street. Two comfy single beds. Full bath and one half bath shared with 1-2 others. Kitchen privileges and breakfast included. Air Conditioned. Five minute walk to shops.                                                                                                                                                                                                                                                                                                                                                                                                                                                                                                                                                                                                                                                                                                                                                                                |Linda      |Boston Massachusetts United States          |within an hour    |100%              |100%                |true             |2014-05-11|Durnell Avenue Boston MA 02131 United States     |Boston    |MA   |2131   |House        |Private room   |2           |1.5      |1       |7900 |29               |\n",
      "|12386020|https://www.airbnb.com/rooms/12386020|Private Bedroom + Great Coffee               |Our sunny condo is located on the second and third floors of a 2-family home. Our guest bedroom and private bath are on the first floor of our unit. In addition to the guest quarters we have a large airy living room that you're welcome to relax in and a three-season porch off the back. I feel fortunate to have a home that's the best of both worlds: convenient to the city but peaceful with conservation land behind us and the Arnold Arboretum just down the street.  In addition to our small family we have two cats (one of whom guests will never see).                                                                                                                                                                                                                                                                                                                                                                                                                                                          |Deborah    |Boston Massachusetts United States          |within a few hours|100%              |95%                 |true             |2016-03-23|Walter Street Boston MA 02131 United States      |Boston    |MA   |2131   |Condominium  |Private room   |2           |1.0      |1       |7500 |8                |\n",
      "|5706985 |https://www.airbnb.com/rooms/5706985 |New Lrg Studio apt 15 min to Boston          |The whole house was recently redone and it 's only a 5 minute walk into Rosi Square- the new hip area of Boston - with the train into downtown Boston  (15 minute train ride)  several good restaurants grocery bakery etc. Free wifi and off street parking. This studio is in the basement and has a private separate entrance under the back deck.  The ceilings are a bit over 8 feet tall and the windows are located just below the ceiling. The kitchen does NOT have an oven. It only has a small fridge microwave fancy toaster oven and coffee pot.  I may be in residence upstairs in the rest of the house but I travel frequently/ or from time to time the main house also may be a separate Airbnb rental. As such you may hear footsteps above you. In addition the water heater for the house is located in the utility area of this level as is a separate furnace for this studio so you can control your own temperature.                                                                                      |Juliet     |Milton Massachusetts United States          |within an hour    |98%               |96%                 |false            |2013-05-25|Kittredge Street Boston MA 02131 United States   |Boston    |MA   |2131   |Apartment    |Entire home/apt|3           |1.0      |1       |10000|57               |\n",
      "|2843445 |https://www.airbnb.com/rooms/2843445 |\"Tranquility\" on \"Top of the Hill\"           |We provide a bedroom and full shared bath.  Rates are dropped by 10% for the winter months.  See below!  From the front of the house you have a panoramic view of Boston and from the back deck you have a private space overlooking our spacious back yard and the greenery of the neighborhood.  We provide the towels and the linens.   (For the summer months we have air conditioning in the bedrooms)  Our home is impeccably clean.  We vacuum dust and clean everywhere before and after our guests arrive and depart.  Rate explanation - $70/night for the first guest $85/night for an additional guest in the same room.  Use of another room is an additional $70/night for the second room.  See our listing at Sub\"Urban\" Vacationing Rm. 2.  We will respond to your inquiry withing 6-8 hrs or sooner so please be a little patient while waiting.  In order to best accommodate our guests we ask that requests/inquiries be made at least 48 hours in advance.  This is because we care about you and we want to|Marilyn    |Boston Massachusetts United States          |within a few hours|100%              |100%                |true             |2012-08-05|Cornell Street Boston MA 02131 United States     |Boston    |MA   |2131   |House        |Private room   |2           |2.0      |1       |7500 |67               |\n",
      "|753446  |https://www.airbnb.com/rooms/753446  |6 miles away from downtown Boston!           |Nice and cozy apartment about 6 miles away to downtown Boston and only about 30 minutes via public transportation with plenty of street parking. It is a 5 minute walk from Rolsindale Village where you can find public transportation a Supermarket a Bakery and a ton of great bars and restaurants. It is also 1 mile from Forest Hills Station:  Bus/Subway/Train. It is conveniently located with a small town atmosphere and just minutes to the city.  The bedroom is about 8 x 8 with a bunk bed for 2 guests including a dresser closet and a small desk. No TV. Shared bathroom. Amenities include: Free WIFI internet. Fresh towels. Pets: 1 cat.                                                                                                                                                                                                                                                                                                                                                                      |Sami       |Boston Massachusetts United States          |within an hour    |100%              |100%                |true             |2012-10-24|Sycamore St Roslindale MA 02131 United States    |Roslindale|MA   |2131   |Condominium  |Private room   |2           |1.0      |1       |5800 |65               |\n",
      "|849408  |https://www.airbnb.com/rooms/849408  |Perfect & Practical Boston Rental            |Perfect apartment rental for those in town visiting family and friends or for people who just need the temporary extra space.  Very comfortable cozy and convenient.   * Open and airy with lots of windows and light  * Large living room and dining room  * Gumwood architectural period detail and character  * Kitchen w/gas stove and breakfast bar and all the appliances you need * Refinished hardwood oak floors throughout  * Shared porch (couch grill bistro table tv) and backyard with patio (dining table and lounge furniture) * Laundry in unit * Driveway parking (negotiable) for 3 vehicles and plenty on street parking (no permits required) * 7-8 min walk to Needham line commuter rail. Short bus ride to Forrest Hills T (orange line).  * On a major bus line * 10-15 minute drive to Fenway/downtown * Wireless internet and cable included * Smoke free Note: This unit is 5-6 miles outside of downtown so please take location into consideration before you book.  Shops market and restaurants a  |Damon      |Boston Massachusetts United States          |within an hour    |100%              |100%                |true             |2012-12-18|Centre Street Boston MA 02131 United States      |Boston    |MA   |2131   |Apartment    |Entire home/apt|5           |1.0      |2       |22900|33               |\n",
      "|5434353 |https://www.airbnb.com/rooms/5434353 |Quiet  Beauty in Boston                      |Large living and dining area. Sprawling space. Grand piano.                                                                                                                                                                                                                                                                                                                                                                                                                                                                                                                                                                                                                                                                                                                                                                                                                                                                                                                                                                        |Anthony    |Boston Massachusetts United States          |within a day      |75%               |100%                |false            |2013-10-27|Tyndale Street Boston MA 02131 United States     |Boston    |MA   |2131   |House        |Entire home/apt|2           |1.5      |2       |14500|7                |\n",
      "|225979  |https://www.airbnb.com/rooms/225979  |Cozy Room & Fresh Roasted Coffee             |This is a charming bright and sunny apartment with views of the Boston skyline and is absolutely a comfortable professional and safe place for both men and women. You will awake each morning to the smell of fresh brewed coffee - roasted here by me from exotic green beans. Pair this with some fresh baked artisan bread that I typically have on hand. If you love coffee and fresh home made bread it doesn't get any better then this. If you are interested I might give you a lesson or two on how to roast your own coffee. In addition to fresh baked bread toasted with jam additional breakfast offerings may include cereal bagels with cream cheese or on occassion a Colombian breakfast of arepa egg and cheese. It's delicioso and high protein breakfast a great way to start the day. Roslindale Village is a 6 minute walk away and is a lively and charming village square that has many fine restaurants coffee shops market specialty shops and farmer's market on Saturdays from June throug            |Duane      |Boston Massachusetts United States          |within an hour    |100%              |79%                 |false            |2011-09-18|Augustus Ave Boston MA 02131 United States       |Boston    |MA   |2131   |Apartment    |Private room   |1           |0.0      |1       |6000 |70               |\n",
      "|3420384 |https://www.airbnb.com/rooms/3420384 |Convient Safe and Comfortable                |Extra large studio with wifi cable original Fenway Park seats patio grill hot tub laundry Charlie Cards complimentary pass for 4 to the Museum of Fine Arts.                                                                                                                                                                                                                                                                                                                                                                                                                                                                                                                                                                                                                                                                                                                                                                                                                                                                       |Cynthia    |Boston Massachusetts United States          |within a few hours|100%              |100%                |false            |2011-03-09|Doncaster Street Boston MA 02131 United States   |Boston    |MA   |2131   |House        |Private room   |4           |1.0      |1       |16500|1                |\n",
      "|2583074 |https://www.airbnb.com/rooms/2583074 |Cozy room in a charming villa.               |The room is cozy and private. The house is less than a minute to public transportation. It is around the corner from the 'Pleasant Café\" restaurant.                                                                                                                                                                                                                                                                                                                                                                                                                                                                                                                                                                                                                                                                                                                                                                                                                                                                               |Mohamed    |Boston Massachusetts United States          |within a few hours|100%              |94%                 |true             |2014-03-17|Cedrus Avenue Boston MA 02131 United States      |Boston    |MA   |2131   |Villa        |Private room   |1           |2.5      |1       |4000 |31               |\n",
      "|13251243|https://www.airbnb.com/rooms/13251243|Arborside Guest Cottage                      |Today the cottage could be called a \"tiny house\" with 400 square feet of thoughtfully laid-out living space. The vaulted ceiling and open-concept design give it a roomy feel. There is a spiral staircase leading from the ground floor living room to a large sleeping loft with great views of the surrounding neighborhood and parkland. Please see picture to see if stairs are accessible for you.  Downstairs is furnished for comfort  and function with a twin sleeper sofa leather chairs and internet TV.   The dry kitchen area has a small refrigerator microwave toaster oven coffee maker and an electric kettle.  Most appropriate for light breakfasts lunch and snacks. There is no stove or oven and the sink is in the bathroom. With all the great restaurants who wants to cook anyway!  We provide disposable dishes and cutlery or you can use the dishware and stainless. The large closet includes hanging space a luggage rack and drawers for your clothes. The private bathroom is downstairs and ha  |Carl & Judy|Boston Massachusetts United States          |within an hour    |100%              |100%                |false            |2016-05-28|Weld Street Roslindale MA 02131 United States    |Roslindale|MA   |2131   |House        |Entire home/apt|3           |1.0      |0       |12000|16               |\n",
      "|225834  |https://www.airbnb.com/rooms/225834  |Skyline View to Boston                       |After a good nights' sleep you will wake each morning to the smell of fresh brewed coffee - roasted here by me from exotic green beans. Pair this with some fresh baked artisan bread that I bake and typically have on hand. If you love coffee and fresh home made bread it doesn't get any better then this. If you are interested I might give you a lesson or two on how to roast your own coffee. In addition to fresh baked bread toasted with jam additional breakfast offerings may include cereal bagels with cream cheese or on occassion a Colombian breakfast of arepa egg and cheese. It's delicioso and a high protein breakfast a great way to start the day. At the end of the day I occassionally offer a fresh baked baguette with a sampling of quality cheeses. Current coffee offerings are listed at the end of this description. This room offers a rare and unique unobstructed view of the Boston skyline that includes privacy. All nearby buildings are below eye level from this bedroom. You can     |Duane      |Boston Massachusetts United States          |within an hour    |100%              |79%                 |false            |2011-09-18|Augustus Ave Boston MA 02131 United States       |Boston    |MA   |2131   |Apartment    |Private room   |2           |0.0      |1       |7000 |38               |\n",
      "|6400432 |https://www.airbnb.com/rooms/6400432 |Spacious 3 bedroom cape cod style            |This Cape Cod style home features two bedrooms (one king-sized one with two twins) and kitchen newly remodeled bathroom and a large open living and dining area all on the first floor. Downstairs leads to a walk-out basement playroom with laundry half bath and TV area with a queen-sized sofa bed.  Also in the basement is our third bedroom (queen-sized) which opens onto the backyard and patio through lovely glass sliding doors.  There is a large gas grill  patio furniture and backyard for your use.  Driveway fits one car.  A bus stop directly in front of the house brings you to Forest Hills T Station on the Orange line from which all parts of Boston area easily accessible.  Downtown Boston is 15 minutes by car. Walk to Roslindale Village for the Commuter Rail shops restaurants public library post office and amazing Farmer's Market on Saturdays.  This would be a great place to bring kids: 10 minutes by car to the Franklin Park Zoo 20 minutes to the Blue Hills Reservation and         |Jesús      |Boston Massachusetts United States          |within a day      |100%              |63%                 |false            |2014-10-29|Metropolitan Ave Boston MA 02131 United States   |Boston    |MA   |2131   |House        |Entire home/apt|8           |1.0      |3       |15000|21               |\n",
      "|5498472 |https://www.airbnb.com/rooms/5498472 |4BD/3.5BA Perfect for families!              |Our 2400+ square foot home is a hidden gem tucked away at the end of a private lane in a residential neighborhood.  Surrounded by trees the property has a spacious private and safe front yard for playing with kids or just relaxing in the hammock.   Our home has 4 bedrooms including 2 en suites (one king bed one queen bed) and two additional bedrooms (one twin bed) though one is currently set up as an office.  There is a lot of unused space (the office could fit a twin bed or crib the basement could sleep a bunch of people) but we only have beds set up for 5 people currently. We have a basement playroom with a treadmill and way more toys than we need!  Our home has cable TV TVs in the living room both master bedrooms and the basement wireless internet air conditioning (for those warm summer days) back deck BBQ fully stocked kitchen and bath laundry and off street parking.  We are nonsmokers and our home is extremely clean and comfortable. Ideally we would like to rent              |Colette    |Boston Massachusetts United States          |N/A               |N/A               |N/A                 |false            |2015-02-28|Chisholm Lane Boston MA 02131 United States      |Boston    |MA   |2131   |House        |Entire home/apt|5           |3.5      |4       |17500|1                |\n",
      "|894539  |https://www.airbnb.com/rooms/894539  |Private room in house                        |Large private room in a large house near the Arnold Arboretum in the Roslindale section of Boston. The Arboretum offers 281 acres with a living collection of trees shrubs and woody vines and is recognized as one of the most comprehensive and best documented of its kind in the world. House is on a one way block long street and is quiet.  Room is on the second floor in the back of the house next to a large bathroom with washer and drier available for use.  There is good natural light as well as privacy. It's an easy walk to Roslindale Square where you will find Commuter rail and buses to anywhere you want to go.  Roslindale has one of the city's best farmers' markets as well as excellent restaurants. Easy access to downtown Boston and Cambridge Great restaurants and shops nearby. Internet access cable and parking included Use of kitchen or shared meals.                                                                                                                                    |Jennifer   |Boston Massachusetts United States          |within an hour    |100%              |92%                 |true             |2013-01-19|Ashfield Street Roslindale MA 02131 United States|Roslindale|MA   |2131   |House        |Private room   |2           |1.5      |1       |9500 |40               |\n",
      "|879929  |https://www.airbnb.com/rooms/879929  |Surround yourself with custom art!           |One big bedroom in a three bedroom Apartment in Boston. Guest has use of kitchen living room Laundry on premises. Conveniently located on back side of Arnold Arboretum just a 3 minute walk to commuter rail (and then 11Minutes to Down town) bus stop at corner 15 minute walk to Forest hills MBTA station. 3 minute walk to restaurants and stores. On bike path to inner corridor. This is the home of a woodworker/sculptor and you will be surrounded by art. Located in a safe quiet neighborhood.                                                                                                                                                                                                                                                                                                                                                                                                                                                                                                                        |Beth       |Boston Massachusetts Roslindale Neighborhood|within an hour    |100%              |100%                |false            |2013-01-10|Ashfield Street Roslindale MA 02131 United States|Roslindale|MA   |2131   |Apartment    |Private room   |2           |1.0      |1       |9000 |43               |\n",
      "+--------+-------------------------------------+---------------------------------------------+-----------------------------------------------------------------------------------------------------------------------------------------------------------------------------------------------------------------------------------------------------------------------------------------------------------------------------------------------------------------------------------------------------------------------------------------------------------------------------------------------------------------------------------------------------------------------------------------------------------------------------------------------------------------------------------------------------------------------------------------------------------------------------------------------------------------------------------------------------------------------------------------------------------------------------------------------------------------------------------------------------------------------------------+-----------+--------------------------------------------+------------------+------------------+--------------------+-----------------+----------+-------------------------------------------------+----------+-----+-------+-------------+---------------+------------+---------+--------+-----+-----------------+\n",
      "only showing top 20 rows\n",
      "\n"
     ]
    }
   ],
   "source": [
    "listing_df.show(truncate =False)\n"
   ]
  },
  {
   "cell_type": "code",
   "execution_count": 7,
   "metadata": {},
   "outputs": [
    {
     "name": "stdout",
     "output_type": "stream",
     "text": [
      "+----------+----------+---------+-----+\n",
      "|listing_id|      date|available|price|\n",
      "+----------+----------+---------+-----+\n",
      "|  12147973|2017-09-05|    false| null|\n",
      "|  12147973|2017-09-04|    false| null|\n",
      "|  12147973|2017-09-03|    false| null|\n",
      "|  12147973|2017-09-02|    false| null|\n",
      "|  12147973|2017-09-01|    false| null|\n",
      "|  12147973|2017-08-31|    false| null|\n",
      "|  12147973|2017-08-30|    false| null|\n",
      "|  12147973|2017-08-29|    false| null|\n",
      "|  12147973|2017-08-28|    false| null|\n",
      "|  12147973|2017-08-27|    false| null|\n",
      "|  12147973|2017-08-26|    false| null|\n",
      "|  12147973|2017-08-25|    false| null|\n",
      "|  12147973|2017-08-24|    false| null|\n",
      "|  12147973|2017-08-23|    false| null|\n",
      "|  12147973|2017-08-22|    false| null|\n",
      "|  12147973|2017-08-21|    false| null|\n",
      "|  12147973|2017-08-20|    false| null|\n",
      "|  12147973|2017-08-19|    false| null|\n",
      "|  12147973|2017-08-18|    false| null|\n",
      "|  12147973|2017-08-17|    false| null|\n",
      "+----------+----------+---------+-----+\n",
      "only showing top 20 rows\n",
      "\n"
     ]
    }
   ],
   "source": [
    "calender_df.show()"
   ]
  },
  {
   "cell_type": "code",
   "execution_count": 8,
   "metadata": {},
   "outputs": [
    {
     "name": "stdout",
     "output_type": "stream",
     "text": [
      "+----------+--------+----------+-----------+-------------+--------------------+\n",
      "|listing_id|      id|      date|reviewer_id|reviewer_name|            comments|\n",
      "+----------+--------+----------+-----------+-------------+--------------------+\n",
      "|   1178162| 4724140|2013-05-21|    4298113|      Olivier|My stay at islam'...|\n",
      "|   1178162| 4869189|2013-05-29|    6452964|    Charlotte|Great location fo...|\n",
      "|   1178162| 5003196|2013-06-06|    6449554|    Sebastian|We really enjoyed...|\n",
      "|   1178162| 5150351|2013-06-15|    2215611|       Marine|The room was nice...|\n",
      "|   1178162| 5171140|2013-06-16|    6848427|       Andrew|Great location. J...|\n",
      "|   1178162| 5198929|2013-06-17|    6663826|        Arndt|A truely exeption...|\n",
      "|   1178162| 6702817|2013-08-21|    8099222|      Maurice|It was a really n...|\n",
      "|   1178162| 6873023|2013-08-28|    7671888|       Elodie|Islam is a very n...|\n",
      "|   1178162| 7646702|2013-09-28|    8197342|    Arkadiusz|The place is real...|\n",
      "|   1178162| 8094418|2013-10-15|    9040491|      Matthew|Our stay at Islam...|\n",
      "|   1178162| 8174594|2013-10-19|    9101576|       Simona|Our stay at Islam...|\n",
      "|   1178162| 8226316|2013-10-21|     884407|      Laurent|Communication wit...|\n",
      "|   1178162| 8372308|2013-10-28|    8837991|   Olga Maria|Mi estadía en Bos...|\n",
      "|   1178162| 8414572|2013-10-29|     478275|          Kat|Well sized room f...|\n",
      "|   1178162| 8523707|2013-11-04|    8824032|         Ivan|GREAT SPACE, PERF...|\n",
      "|   1178162|11069185|2014-03-18|   10454265|      Jeffrey|The room was exac...|\n",
      "|   1178162|11159232|2014-03-23|    9798322|    Alexander|The room was clea...|\n",
      "|   1178162|11420562|2014-04-01|    6097987|   Karthikram|Izzy was great......|\n",
      "|   1178162|11696317|2014-04-12|   13599868|        Paola|The place was rea...|\n",
      "|   1178162|11766427|2014-04-14|    5064941|          Joe|The host wasn't t...|\n",
      "+----------+--------+----------+-----------+-------------+--------------------+\n",
      "only showing top 20 rows\n",
      "\n"
     ]
    }
   ],
   "source": [
    "review_df.show()"
   ]
  },
  {
   "cell_type": "markdown",
   "metadata": {},
   "source": [
    "**UDF task**\n",
    "\n",
    "Create a UDF to categorize listings in Boston based on their price range (e.g., budget, mid-range, luxury). Apply this UDF to the listings_df dataframe to categorize the listings.\n"
   ]
  },
  {
   "cell_type": "code",
   "execution_count": 9,
   "metadata": {},
   "outputs": [
    {
     "name": "stderr",
     "output_type": "stream",
     "text": [
      "[Stage 9:>                                                          (0 + 1) / 1]\r"
     ]
    },
    {
     "name": "stdout",
     "output_type": "stream",
     "text": [
      "+--------+-----+--------------------+\n",
      "|      id|price|price_range_category|\n",
      "+--------+-----+--------------------+\n",
      "|12147973|25000|              Luxury|\n",
      "| 3075044| 6500|           Mid-Range|\n",
      "|    6976| 6500|           Mid-Range|\n",
      "| 1436513| 7500|           Mid-Range|\n",
      "| 7651065| 7900|           Mid-Range|\n",
      "|12386020| 7500|           Mid-Range|\n",
      "| 5706985|10000|              Luxury|\n",
      "| 2843445| 7500|           Mid-Range|\n",
      "|  753446| 5800|           Mid-Range|\n",
      "|  849408|22900|              Luxury|\n",
      "| 5434353|14500|              Luxury|\n",
      "|  225979| 6000|           Mid-Range|\n",
      "| 3420384|16500|              Luxury|\n",
      "| 2583074| 4000|              Budget|\n",
      "|13251243|12000|              Luxury|\n",
      "|  225834| 7000|           Mid-Range|\n",
      "| 6400432|15000|              Luxury|\n",
      "| 5498472|17500|              Luxury|\n",
      "|  894539| 9500|           Mid-Range|\n",
      "|  879929| 9000|           Mid-Range|\n",
      "+--------+-----+--------------------+\n",
      "only showing top 20 rows\n",
      "\n"
     ]
    },
    {
     "name": "stderr",
     "output_type": "stream",
     "text": [
      "                                                                                \r"
     ]
    }
   ],
   "source": [
    "from pyspark.sql.functions import udf, when, col\n",
    "from pyspark.sql.types import StringType\n",
    "\n",
    "\n",
    "# Define the UDF to categorize listings based on their price\n",
    "def categorize_price_range(price):\n",
    "    if price < 5000:\n",
    "        return \"Budget\"\n",
    "    elif price >= 5000 and price < 10000:\n",
    "        return \"Mid-Range\"\n",
    "    else:\n",
    "        return \"Luxury\"\n",
    "\n",
    "# Register the UDF with Spark\n",
    "categorize_price_udf = udf(categorize_price_range, StringType())\n",
    "\n",
    "# Apply the UDF to categorize listings\n",
    "listing_df_q1 = listing_df.withColumn(\"price_range_category\", categorize_price_udf(col(\"price\").cast(\"float\")))\n",
    "\n",
    "# Show the resulting DataFrame with the new category column\n",
    "listing_df_q1.select(\"id\", \"price\", \"price_range_category\").show()\n",
    "\n",
    "\n"
   ]
  },
  {
   "cell_type": "markdown",
   "metadata": {},
   "source": [
    "\n",
    "**Simple Operator Task**: \n",
    "\n",
    "\n",
    "Combine reviews_df and listings_df to study the number of reviews for each property type in Boston. Order the results by property type."
   ]
  },
  {
   "cell_type": "code",
   "execution_count": 49,
   "metadata": {},
   "outputs": [
    {
     "name": "stdout",
     "output_type": "stream",
     "text": [
      "+---------------+-----------+\n",
      "|  property_type|ReviewCount|\n",
      "+---------------+-----------+\n",
      "|      Apartment|      36826|\n",
      "|          House|      12438|\n",
      "|    Condominium|       2799|\n",
      "|Bed & Breakfast|       1314|\n",
      "|      Townhouse|        669|\n",
      "|           Loft|        638|\n",
      "|           Boat|        187|\n",
      "|          Other|         55|\n",
      "|          Villa|         33|\n",
      "|           null|         28|\n",
      "|           Dorm|          2|\n",
      "|     Guesthouse|          1|\n",
      "+---------------+-----------+\n",
      "\n"
     ]
    }
   ],
   "source": [
    "from pyspark.sql.functions import desc\n",
    "\n",
    "join_expression = review_df[\"listing_id\"] == listing_df[\"id\"]\n",
    "\n",
    "\n",
    "#  Join reviews_df with listings_df on \"listing_id\"\n",
    "combined_df = review_df.join(listing_df, join_expression, \"inner\")\n",
    "\n",
    "# Group by \"property_type\" and count the number of reviews for each property type\n",
    "review_count_by_property_type = combined_df.groupBy(\"property_type\") \\\n",
    "    .count() \\\n",
    "    .withColumnRenamed(\"count\", \"ReviewCount\")\n",
    "\n",
    "# Order the results by property type\n",
    "review_count_by_property_type = review_count_by_property_type.orderBy(col(\"ReviewCount\").desc())\n",
    "\n",
    "# Show the resulting DataFrame\n",
    "review_count_by_property_type.show()"
   ]
  },
  {
   "cell_type": "markdown",
   "metadata": {},
   "source": [
    "**Window Function Task** \n",
    "\n",
    "Identify listings with the highest seasonal price changes by comparing prices in different months.\n",
    "\n"
   ]
  },
  {
   "cell_type": "code",
   "execution_count": 27,
   "metadata": {},
   "outputs": [
    {
     "name": "stderr",
     "output_type": "stream",
     "text": [
      "[Stage 32:>                                                         (0 + 4) / 4]\r"
     ]
    },
    {
     "name": "stdout",
     "output_type": "stream",
     "text": [
      "+----------+-------------------------+\n",
      "|listing_id|max_seasonal_price_change|\n",
      "+----------+-------------------------+\n",
      "|    447826|                  88650.0|\n",
      "|  13445221|       25164.705882352944|\n",
      "|  10004575|                  16000.0|\n",
      "|   3842286|       14857.142857142855|\n",
      "|  14813006|        14162.68472906404|\n",
      "|  11866651|       13598.039215686276|\n",
      "|   6066455|       13264.705882352937|\n",
      "|   7633883|       12987.900846338991|\n",
      "|  13912429|                  12500.0|\n",
      "|   6326257|       11638.438438438432|\n",
      "|   8930592|       11444.444444444442|\n",
      "|   9231486|       11210.909090909088|\n",
      "|   2881388|       11123.152709359609|\n",
      "|  13466910|       11114.634146341465|\n",
      "|   7134081|                  10882.5|\n",
      "|   8303267|       10838.709677419363|\n",
      "|  11963384|        10756.36363636364|\n",
      "|  13306033|       10521.428571428572|\n",
      "|  14420920|                  10485.0|\n",
      "|   7377034|       10344.642857142859|\n",
      "+----------+-------------------------+\n",
      "only showing top 20 rows\n",
      "\n"
     ]
    },
    {
     "name": "stderr",
     "output_type": "stream",
     "text": [
      "                                                                                \r"
     ]
    }
   ],
   "source": [
    "\n",
    "from pyspark.sql.window import Window\n",
    "from pyspark.sql import functions as F\n",
    "\n",
    "\n",
    "# Define a window specification to partition by listing_id and order by month\n",
    "window_spec = Window.partitionBy(\"listing_id\").orderBy(F.year(\"date\"), F.month(\"date\"))\n",
    "\n",
    "# Calculate the average price for each listing in each month\n",
    "avg_price_by_month = calender_df.withColumn(\"avg_price\", F.avg(\"price\").over(window_spec))\n",
    "\n",
    "# Calculate the price change for each listing in each month compared to the previous month\n",
    "price_change = avg_price_by_month.withColumn(\"price_change\", F.col(\"avg_price\") - F.lag(\"avg_price\").over(window_spec))\n",
    "\n",
    "# Find the maximum price change (seasonal price change) for each listing\n",
    "seasonal_price_change = price_change.groupBy(\"listing_id\").agg(F.max(\"price_change\").alias(\"max_seasonal_price_change\"))\n",
    "\n",
    "# Rank the listings based on their seasonal price change\n",
    "ranked_listings = seasonal_price_change.orderBy(F.desc(\"max_seasonal_price_change\"))\n",
    "\n",
    "# Show the resulting DataFrame with the ranked listings\n",
    "ranked_listings.show()"
   ]
  },
  {
   "cell_type": "markdown",
   "metadata": {},
   "source": [
    "**Simple Operator Task** \n",
    "\n",
    "Group listings by room_type and property_type, calculate the average price for each combination, and rename the resulting column as \"Average Price.\" Order the results by the average price in ascending order.\n",
    "\n"
   ]
  },
  {
   "cell_type": "code",
   "execution_count": 30,
   "metadata": {},
   "outputs": [
    {
     "name": "stdout",
     "output_type": "stream",
     "text": [
      "+---------------+---------------+------------------+\n",
      "|      Room Type|  Property Type|     Average Price|\n",
      "+---------------+---------------+------------------+\n",
      "|    Shared room|Bed & Breakfast|            4400.0|\n",
      "|   Private room|           Dorm|            5000.0|\n",
      "|   Private room|          Villa|            5500.0|\n",
      "|Entire home/apt|      Camper/RV|            6000.0|\n",
      "|    Shared room|           Loft|            6700.0|\n",
      "|    Shared room|          House|            7450.0|\n",
      "|   Private room|          House|  8385.42372881356|\n",
      "|    Shared room|    Condominium|            8900.0|\n",
      "|   Private room|      Apartment| 9183.187772925765|\n",
      "|    Shared room|      Apartment| 9654.761904761905|\n",
      "|   Private room|           Loft|           10240.0|\n",
      "|   Private room|    Condominium|11075.925925925925|\n",
      "|   Private room|      Townhouse|11468.965517241379|\n",
      "|   Private room|           null|           11500.0|\n",
      "|   Private room|Bed & Breakfast| 13839.39393939394|\n",
      "|Entire home/apt|Bed & Breakfast|           14250.0|\n",
      "|Entire home/apt|   Entire Floor|           15400.0|\n",
      "|   Private room|          Other| 16411.11111111111|\n",
      "|Entire home/apt|           null|           19900.0|\n",
      "|Entire home/apt|      Apartment|22429.533282325938|\n",
      "+---------------+---------------+------------------+\n",
      "only showing top 20 rows\n",
      "\n"
     ]
    }
   ],
   "source": [
    "from pyspark.sql.functions import col, avg\n",
    "\n",
    "# Assuming you have \"room_type\", \"property_type\", and \"price\" columns\n",
    "listing_df_q = listing_df.withColumnRenamed(\"room_type\", \"Room Type\")\n",
    "listing_df_q = listing_df_q.withColumnRenamed(\"property_type\", \"Property Type\")\n",
    "listing_df_q = listing_df_q.withColumnRenamed(\"price\", \"Price\")\n",
    "\n",
    "# Calculate the average price for each combination of room type and property type\n",
    "average_price_df = listing_df_q.groupBy(\"Room Type\", \"Property Type\") \\\n",
    "    .agg(avg(\"Price\").alias(\"Average Price\"))\n",
    "\n",
    "# Order the results by \"Average Price\" in ascending order\n",
    "ordered_average_price_df = average_price_df.orderBy(col(\"Average Price\"))\n",
    "\n",
    "# Show the resulting DataFrame with the renamed column\n",
    "ordered_average_price_df.show()\n"
   ]
  },
  {
   "cell_type": "markdown",
   "metadata": {},
   "source": [
    "**Pivoting task**\n",
    "\n",
    "In this question, you'll need to use the pivot operation to transform the data in such a way that the resulting table displays property types as rows and room types as columns. The values in the table should represent the count of Airbnb listings in Boston for each combination of property type and room type."
   ]
  },
  {
   "cell_type": "code",
   "execution_count": 44,
   "metadata": {},
   "outputs": [
    {
     "name": "stdout",
     "output_type": "stream",
     "text": [
      "+---------------+---------------+------------+-----------+\n",
      "|  property_type|Entire home/apt|Private room|Shared room|\n",
      "+---------------+---------------+------------+-----------+\n",
      "|      Apartment|           1273|         423|         38|\n",
      "|      Townhouse|              8|          27|          0|\n",
      "|Bed & Breakfast|              2|          28|          1|\n",
      "|           null|              1|           1|          0|\n",
      "|           Loft|             23|           2|          1|\n",
      "|     Guesthouse|              1|           0|          0|\n",
      "|          Villa|              1|           2|          0|\n",
      "|   Entire Floor|              2|           0|          0|\n",
      "|          Other|              0|           9|          3|\n",
      "|           Dorm|              0|           1|          0|\n",
      "|    Condominium|            108|          50|          0|\n",
      "|          House|            106|         259|          4|\n",
      "|           Boat|             10|           2|          0|\n",
      "+---------------+---------------+------------+-----------+\n",
      "\n"
     ]
    }
   ],
   "source": [
    "# Filter the data to include only Boston listings\n",
    "boston_listings = listing_df.filter(col('city') == 'Boston')\n",
    "\n",
    "# Group the data by property type and room type to calculate counts\n",
    "grouped_data = boston_listings.groupBy('property_type', 'room_type') \\\n",
    "    .agg(F.count(\"*\").alias(\"listing_count\"))\n",
    "\n",
    "# Pivot the data to have property types as rows, room types as columns, and listing counts as values\n",
    "pivoted_table = grouped_data.groupBy('property_type') \\\n",
    "    .pivot('room_type') \\\n",
    "    .agg(F.sum('listing_count').alias('total_listings')) \\\n",
    "    .fillna(0)\n",
    "\n",
    "# Show the resulting table\n",
    "pivoted_table.show()"
   ]
  },
  {
   "cell_type": "code",
   "execution_count": null,
   "metadata": {},
   "outputs": [],
   "source": []
  }
 ],
 "metadata": {
  "kernelspec": {
   "display_name": "venv",
   "language": "python",
   "name": "venv"
  },
  "language_info": {
   "codemirror_mode": {
    "name": "ipython",
    "version": 3
   },
   "file_extension": ".py",
   "mimetype": "text/x-python",
   "name": "python",
   "nbconvert_exporter": "python",
   "pygments_lexer": "ipython3",
   "version": "3.10.12"
  },
  "orig_nbformat": 4
 },
 "nbformat": 4,
 "nbformat_minor": 2
}
